{
 "cells": [
  {
   "cell_type": "code",
   "execution_count": 11,
   "id": "38679a7f",
   "metadata": {},
   "outputs": [],
   "source": [
    "import csv\n",
    "import torch\n",
    "import torch.nn as nn\n",
    "import torch.nn.functional as F\n",
    "import torch.utils.data as data\n",
    "import util\n",
    "import numpy as np\n",
    "import pandas as pd\n",
    "import matplotlib.pyplot as plt\n",
    "from itertools import combinations\n",
    "\n",
    "from args import get_test_args\n",
    "from collections import OrderedDict\n",
    "from json import dumps\n",
    "from models import BiDAF, QANet, UnifiedQANet\n",
    "from os.path import join\n",
    "from tensorboardX import SummaryWriter\n",
    "from tqdm import tqdm\n",
    "from ujson import load as json_load\n",
    "from util import collate_fn, SQuAD, metric_max_over_ground_truths, compute_em, compute_f1, compute_avna"
   ]
  },
  {
   "cell_type": "code",
   "execution_count": 12,
   "id": "84e48176",
   "metadata": {},
   "outputs": [],
   "source": [
    "train_dataset = SQuAD('./data/train.npz', True)\n",
    "dev_dataset = SQuAD('./data/dev.npz', True)"
   ]
  },
  {
   "cell_type": "code",
   "execution_count": 13,
   "id": "04f82cb1",
   "metadata": {},
   "outputs": [],
   "source": [
    "word_vectors = util.torch_from_json('./data/word_emb.json')\n",
    "char_vectors = util.torch_from_json('./data/char_emb.json')"
   ]
  },
  {
   "cell_type": "code",
   "execution_count": 14,
   "id": "ded80ba2",
   "metadata": {},
   "outputs": [
    {
     "name": "stdout",
     "output_type": "stream",
     "text": [
      "torch.Size([88714, 300])\n",
      "torch.Size([1376, 64])\n"
     ]
    }
   ],
   "source": [
    "print(word_vectors.shape)\n",
    "print(char_vectors.shape)"
   ]
  },
  {
   "cell_type": "code",
   "execution_count": 15,
   "id": "09fe7167",
   "metadata": {},
   "outputs": [],
   "source": [
    "ys_train = list(zip(train_dataset.y1s.numpy(), train_dataset.y2s.numpy()))\n",
    "ys_dev = list(zip(dev_dataset.y1s.numpy(), dev_dataset.y2s.numpy())) \n",
    "df_train = pd.DataFrame(ys_train, columns=['y1', 'y2'])\n",
    "df_dev = pd.DataFrame(ys_dev, columns=['y1', 'y2'])"
   ]
  },
  {
   "cell_type": "code",
   "execution_count": 16,
   "id": "f53d616d",
   "metadata": {},
   "outputs": [],
   "source": [
    "def calculate_len(row):\n",
    "    if row[0] == 0 and row[1] == 0:\n",
    "        return 0\n",
    "    else:\n",
    "        return row[1] - row[0] + 1"
   ]
  },
  {
   "cell_type": "code",
   "execution_count": 17,
   "id": "bf1c33cc",
   "metadata": {},
   "outputs": [
    {
     "data": {
      "text/plain": [
       "[0.5245098039215687,\n",
       " 0.16700473292765383,\n",
       " 0.10378634212305612,\n",
       " 0.07606490872210954,\n",
       " 0.04006085192697769,\n",
       " 0.02636916835699797,\n",
       " 0.016396213657876944,\n",
       " 0.013015551048005409,\n",
       " 0.007944557133198107,\n",
       " 0.006254225828262339,\n",
       " 0.004394861392832995,\n",
       " 0.0042258282623394185,\n",
       " 0.003211629479377958,\n",
       " 0.002704530087897228,\n",
       " 0.002535496957403651,\n",
       " 0.0015212981744421906]"
      ]
     },
     "execution_count": 17,
     "metadata": {},
     "output_type": "execute_result"
    }
   ],
   "source": [
    "answer_len = df_dev.apply(calculate_len, axis=1)\n",
    "v = pd.value_counts(answer_len)[:16]\n",
    "list(v/v.sum())"
   ]
  },
  {
   "cell_type": "code",
   "execution_count": 18,
   "id": "158be13c",
   "metadata": {},
   "outputs": [
    {
     "data": {
      "text/plain": [
       "count    5951.000000\n",
       "mean        1.057469\n",
       "std         2.484721\n",
       "min         0.000000\n",
       "25%         0.000000\n",
       "50%         0.000000\n",
       "75%         1.000000\n",
       "max        28.000000\n",
       "dtype: float64"
      ]
     },
     "execution_count": 18,
     "metadata": {},
     "output_type": "execute_result"
    }
   ],
   "source": [
    "(df_dev.y2-df_dev.y1).describe()"
   ]
  },
  {
   "cell_type": "code",
   "execution_count": 19,
   "id": "cf646d7a",
   "metadata": {},
   "outputs": [
    {
     "data": {
      "text/plain": [
       "0.33369760121901476"
      ]
     },
     "execution_count": 19,
     "metadata": {},
     "output_type": "execute_result"
    }
   ],
   "source": [
    "sum(((df_train.y1==0)&(df_train.y2==0)))/len(df_train)"
   ]
  },
  {
   "cell_type": "code",
   "execution_count": null,
   "id": "40358f96",
   "metadata": {},
   "outputs": [],
   "source": []
  },
  {
   "cell_type": "code",
   "execution_count": 20,
   "id": "9332c935",
   "metadata": {},
   "outputs": [
    {
     "data": {
      "text/plain": [
       "0.5214249705931776"
      ]
     },
     "execution_count": 20,
     "metadata": {},
     "output_type": "execute_result"
    }
   ],
   "source": [
    "sum(((df_dev.y1==0)&(df_dev.y2==0)))/len(df_dev)"
   ]
  },
  {
   "cell_type": "code",
   "execution_count": 21,
   "id": "3af3f04c",
   "metadata": {},
   "outputs": [],
   "source": [
    "device, gpu_ids = util.get_available_devices()"
   ]
  },
  {
   "cell_type": "code",
   "execution_count": 22,
   "id": "a532e9b6",
   "metadata": {},
   "outputs": [],
   "source": [
    "model = UnifiedQANet(word_vectors=word_vectors,\n",
    "              char_vectors=char_vectors,\n",
    "              hidden_size=128,\n",
    "              num_head=4)"
   ]
  },
  {
   "cell_type": "code",
   "execution_count": 23,
   "id": "c817d233",
   "metadata": {},
   "outputs": [],
   "source": [
    "def load_model(model, checkpoint_path, gpu_ids, return_step=True):\n",
    "    \"\"\"Load model parameters from disk.\n",
    "\n",
    "    Args:\n",
    "        model (torch.nn.DataParallel): Load parameters into this model.\n",
    "        checkpoint_path (str): Path to checkpoint to load.\n",
    "        gpu_ids (list): GPU IDs for DataParallel.\n",
    "        return_step (bool): Also return the step at which checkpoint was saved.\n",
    "\n",
    "    Returns:\n",
    "        model (torch.nn.DataParallel): Model loaded from checkpoint.\n",
    "        step (int): Step at which checkpoint was saved. Only if `return_step`.\n",
    "    \"\"\"\n",
    "    device = 'cpu'\n",
    "    ckpt_dict = torch.load(checkpoint_path, map_location=device)\n",
    "\n",
    "    # Build model, load parameters\n",
    "    model.load_state_dict(ckpt_dict['model_state'], strict=False)\n",
    "\n",
    "    if return_step:\n",
    "        step = ckpt_dict['step']\n",
    "        return model, step\n",
    "\n",
    "    return model"
   ]
  },
  {
   "cell_type": "code",
   "execution_count": 24,
   "id": "da658370",
   "metadata": {
    "scrolled": true
   },
   "outputs": [
    {
     "data": {
      "text/plain": [
       "DataParallel(\n",
       "  (module): UnifiedQANet(\n",
       "    (emb): Embedding(\n",
       "      (word_emb): Embedding(88714, 300)\n",
       "      (char_emb): Embedding(1376, 64)\n",
       "      (seg_emb): Embedding(2, 128)\n",
       "      (conv2d): Conv2d(64, 128, kernel_size=(1, 5), stride=(1, 1))\n",
       "      (conv1d_word): FeedForward(\n",
       "        (out): Linear(in_features=300, out_features=128, bias=False)\n",
       "      )\n",
       "      (conv1d): FeedForward(\n",
       "        (out): Linear(in_features=256, out_features=128, bias=False)\n",
       "      )\n",
       "      (hwy): HighwayEncoder(\n",
       "        (transforms): ModuleList(\n",
       "          (0): Linear(in_features=128, out_features=128, bias=True)\n",
       "          (1): Linear(in_features=128, out_features=128, bias=True)\n",
       "        )\n",
       "        (gates): ModuleList(\n",
       "          (0): Linear(in_features=128, out_features=128, bias=True)\n",
       "          (1): Linear(in_features=128, out_features=128, bias=True)\n",
       "        )\n",
       "      )\n",
       "    )\n",
       "    (emb_enc_blks): ModuleList(\n",
       "      (0): EncoderBlock(\n",
       "        (convs): ModuleList(\n",
       "          (0): DepthwiseSeparableConv(\n",
       "            (depthwise): Conv1d(128, 128, kernel_size=(7,), stride=(1,), padding=(3,), groups=128, bias=False)\n",
       "            (pointwise): Conv1d(128, 128, kernel_size=(1,), stride=(1,))\n",
       "          )\n",
       "          (1): DepthwiseSeparableConv(\n",
       "            (depthwise): Conv1d(128, 128, kernel_size=(7,), stride=(1,), padding=(3,), groups=128, bias=False)\n",
       "            (pointwise): Conv1d(128, 128, kernel_size=(1,), stride=(1,))\n",
       "          )\n",
       "          (2): DepthwiseSeparableConv(\n",
       "            (depthwise): Conv1d(128, 128, kernel_size=(7,), stride=(1,), padding=(3,), groups=128, bias=False)\n",
       "            (pointwise): Conv1d(128, 128, kernel_size=(1,), stride=(1,))\n",
       "          )\n",
       "          (3): DepthwiseSeparableConv(\n",
       "            (depthwise): Conv1d(128, 128, kernel_size=(7,), stride=(1,), padding=(3,), groups=128, bias=False)\n",
       "            (pointwise): Conv1d(128, 128, kernel_size=(1,), stride=(1,))\n",
       "          )\n",
       "        )\n",
       "        (self_attention): MultiheadAttention(\n",
       "          (out_proj): NonDynamicallyQuantizableLinear(in_features=128, out_features=128, bias=True)\n",
       "        )\n",
       "        (ffn_1): FeedForward(\n",
       "          (out): Linear(in_features=128, out_features=128, bias=True)\n",
       "        )\n",
       "        (ffn_2): FeedForward(\n",
       "          (out): Linear(in_features=128, out_features=128, bias=True)\n",
       "        )\n",
       "        (layer_norm_convs): ModuleList(\n",
       "          (0): LayerNorm((128,), eps=1e-05, elementwise_affine=True)\n",
       "          (1): LayerNorm((128,), eps=1e-05, elementwise_affine=True)\n",
       "          (2): LayerNorm((128,), eps=1e-05, elementwise_affine=True)\n",
       "          (3): LayerNorm((128,), eps=1e-05, elementwise_affine=True)\n",
       "        )\n",
       "        (layer_norm_attention): LayerNorm((128,), eps=1e-05, elementwise_affine=True)\n",
       "        (layer_norm_ffn): LayerNorm((128,), eps=1e-05, elementwise_affine=True)\n",
       "      )\n",
       "    )\n",
       "    (cq_att): BiDAFAttention()\n",
       "    (proj): FeedForward(\n",
       "      (out): Linear(in_features=512, out_features=128, bias=False)\n",
       "    )\n",
       "    (model_enc_blks): ModuleList(\n",
       "      (0): EncoderBlock(\n",
       "        (convs): ModuleList(\n",
       "          (0): DepthwiseSeparableConv(\n",
       "            (depthwise): Conv1d(128, 128, kernel_size=(5,), stride=(1,), padding=(2,), groups=128, bias=False)\n",
       "            (pointwise): Conv1d(128, 128, kernel_size=(1,), stride=(1,))\n",
       "          )\n",
       "          (1): DepthwiseSeparableConv(\n",
       "            (depthwise): Conv1d(128, 128, kernel_size=(5,), stride=(1,), padding=(2,), groups=128, bias=False)\n",
       "            (pointwise): Conv1d(128, 128, kernel_size=(1,), stride=(1,))\n",
       "          )\n",
       "        )\n",
       "        (self_attention): MultiheadAttention(\n",
       "          (out_proj): NonDynamicallyQuantizableLinear(in_features=128, out_features=128, bias=True)\n",
       "        )\n",
       "        (ffn_1): FeedForward(\n",
       "          (out): Linear(in_features=128, out_features=128, bias=True)\n",
       "        )\n",
       "        (ffn_2): FeedForward(\n",
       "          (out): Linear(in_features=128, out_features=128, bias=True)\n",
       "        )\n",
       "        (layer_norm_convs): ModuleList(\n",
       "          (0): LayerNorm((128,), eps=1e-05, elementwise_affine=True)\n",
       "          (1): LayerNorm((128,), eps=1e-05, elementwise_affine=True)\n",
       "        )\n",
       "        (layer_norm_attention): LayerNorm((128,), eps=1e-05, elementwise_affine=True)\n",
       "        (layer_norm_ffn): LayerNorm((128,), eps=1e-05, elementwise_affine=True)\n",
       "      )\n",
       "      (1): EncoderBlock(\n",
       "        (convs): ModuleList(\n",
       "          (0): DepthwiseSeparableConv(\n",
       "            (depthwise): Conv1d(128, 128, kernel_size=(5,), stride=(1,), padding=(2,), groups=128, bias=False)\n",
       "            (pointwise): Conv1d(128, 128, kernel_size=(1,), stride=(1,))\n",
       "          )\n",
       "          (1): DepthwiseSeparableConv(\n",
       "            (depthwise): Conv1d(128, 128, kernel_size=(5,), stride=(1,), padding=(2,), groups=128, bias=False)\n",
       "            (pointwise): Conv1d(128, 128, kernel_size=(1,), stride=(1,))\n",
       "          )\n",
       "        )\n",
       "        (self_attention): MultiheadAttention(\n",
       "          (out_proj): NonDynamicallyQuantizableLinear(in_features=128, out_features=128, bias=True)\n",
       "        )\n",
       "        (ffn_1): FeedForward(\n",
       "          (out): Linear(in_features=128, out_features=128, bias=True)\n",
       "        )\n",
       "        (ffn_2): FeedForward(\n",
       "          (out): Linear(in_features=128, out_features=128, bias=True)\n",
       "        )\n",
       "        (layer_norm_convs): ModuleList(\n",
       "          (0): LayerNorm((128,), eps=1e-05, elementwise_affine=True)\n",
       "          (1): LayerNorm((128,), eps=1e-05, elementwise_affine=True)\n",
       "        )\n",
       "        (layer_norm_attention): LayerNorm((128,), eps=1e-05, elementwise_affine=True)\n",
       "        (layer_norm_ffn): LayerNorm((128,), eps=1e-05, elementwise_affine=True)\n",
       "      )\n",
       "      (2): EncoderBlock(\n",
       "        (convs): ModuleList(\n",
       "          (0): DepthwiseSeparableConv(\n",
       "            (depthwise): Conv1d(128, 128, kernel_size=(5,), stride=(1,), padding=(2,), groups=128, bias=False)\n",
       "            (pointwise): Conv1d(128, 128, kernel_size=(1,), stride=(1,))\n",
       "          )\n",
       "          (1): DepthwiseSeparableConv(\n",
       "            (depthwise): Conv1d(128, 128, kernel_size=(5,), stride=(1,), padding=(2,), groups=128, bias=False)\n",
       "            (pointwise): Conv1d(128, 128, kernel_size=(1,), stride=(1,))\n",
       "          )\n",
       "        )\n",
       "        (self_attention): MultiheadAttention(\n",
       "          (out_proj): NonDynamicallyQuantizableLinear(in_features=128, out_features=128, bias=True)\n",
       "        )\n",
       "        (ffn_1): FeedForward(\n",
       "          (out): Linear(in_features=128, out_features=128, bias=True)\n",
       "        )\n",
       "        (ffn_2): FeedForward(\n",
       "          (out): Linear(in_features=128, out_features=128, bias=True)\n",
       "        )\n",
       "        (layer_norm_convs): ModuleList(\n",
       "          (0): LayerNorm((128,), eps=1e-05, elementwise_affine=True)\n",
       "          (1): LayerNorm((128,), eps=1e-05, elementwise_affine=True)\n",
       "        )\n",
       "        (layer_norm_attention): LayerNorm((128,), eps=1e-05, elementwise_affine=True)\n",
       "        (layer_norm_ffn): LayerNorm((128,), eps=1e-05, elementwise_affine=True)\n",
       "      )\n",
       "      (3): EncoderBlock(\n",
       "        (convs): ModuleList(\n",
       "          (0): DepthwiseSeparableConv(\n",
       "            (depthwise): Conv1d(128, 128, kernel_size=(5,), stride=(1,), padding=(2,), groups=128, bias=False)\n",
       "            (pointwise): Conv1d(128, 128, kernel_size=(1,), stride=(1,))\n",
       "          )\n",
       "          (1): DepthwiseSeparableConv(\n",
       "            (depthwise): Conv1d(128, 128, kernel_size=(5,), stride=(1,), padding=(2,), groups=128, bias=False)\n",
       "            (pointwise): Conv1d(128, 128, kernel_size=(1,), stride=(1,))\n",
       "          )\n",
       "        )\n",
       "        (self_attention): MultiheadAttention(\n",
       "          (out_proj): NonDynamicallyQuantizableLinear(in_features=128, out_features=128, bias=True)\n",
       "        )\n",
       "        (ffn_1): FeedForward(\n",
       "          (out): Linear(in_features=128, out_features=128, bias=True)\n",
       "        )\n",
       "        (ffn_2): FeedForward(\n",
       "          (out): Linear(in_features=128, out_features=128, bias=True)\n",
       "        )\n",
       "        (layer_norm_convs): ModuleList(\n",
       "          (0): LayerNorm((128,), eps=1e-05, elementwise_affine=True)\n",
       "          (1): LayerNorm((128,), eps=1e-05, elementwise_affine=True)\n",
       "        )\n",
       "        (layer_norm_attention): LayerNorm((128,), eps=1e-05, elementwise_affine=True)\n",
       "        (layer_norm_ffn): LayerNorm((128,), eps=1e-05, elementwise_affine=True)\n",
       "      )\n",
       "      (4): EncoderBlock(\n",
       "        (convs): ModuleList(\n",
       "          (0): DepthwiseSeparableConv(\n",
       "            (depthwise): Conv1d(128, 128, kernel_size=(5,), stride=(1,), padding=(2,), groups=128, bias=False)\n",
       "            (pointwise): Conv1d(128, 128, kernel_size=(1,), stride=(1,))\n",
       "          )\n",
       "          (1): DepthwiseSeparableConv(\n",
       "            (depthwise): Conv1d(128, 128, kernel_size=(5,), stride=(1,), padding=(2,), groups=128, bias=False)\n",
       "            (pointwise): Conv1d(128, 128, kernel_size=(1,), stride=(1,))\n",
       "          )\n",
       "        )\n",
       "        (self_attention): MultiheadAttention(\n",
       "          (out_proj): NonDynamicallyQuantizableLinear(in_features=128, out_features=128, bias=True)\n",
       "        )\n",
       "        (ffn_1): FeedForward(\n",
       "          (out): Linear(in_features=128, out_features=128, bias=True)\n",
       "        )\n",
       "        (ffn_2): FeedForward(\n",
       "          (out): Linear(in_features=128, out_features=128, bias=True)\n",
       "        )\n",
       "        (layer_norm_convs): ModuleList(\n",
       "          (0): LayerNorm((128,), eps=1e-05, elementwise_affine=True)\n",
       "          (1): LayerNorm((128,), eps=1e-05, elementwise_affine=True)\n",
       "        )\n",
       "        (layer_norm_attention): LayerNorm((128,), eps=1e-05, elementwise_affine=True)\n",
       "        (layer_norm_ffn): LayerNorm((128,), eps=1e-05, elementwise_affine=True)\n",
       "      )\n",
       "    )\n",
       "    (out): Output(\n",
       "      (w1): FeedForward(\n",
       "        (out): Linear(in_features=256, out_features=1, bias=False)\n",
       "      )\n",
       "      (w2): FeedForward(\n",
       "        (out): Linear(in_features=256, out_features=1, bias=False)\n",
       "      )\n",
       "    )\n",
       "  )\n",
       ")"
      ]
     },
     "execution_count": 24,
     "metadata": {},
     "output_type": "execute_result"
    }
   ],
   "source": [
    "model = nn.DataParallel(model, gpu_ids)\n",
    "model = load_model(model, 'save/train/uqanet-02/best.pth.tar', None, return_step=False)\n",
    "model = model.to(device)\n",
    "model.eval()"
   ]
  },
  {
   "cell_type": "code",
   "execution_count": 25,
   "id": "950a601a",
   "metadata": {},
   "outputs": [],
   "source": [
    "dataset = dev_dataset\n",
    "data_loader = data.DataLoader(dataset,\n",
    "                              batch_size=64,\n",
    "                              shuffle=False,\n",
    "                              num_workers=4,\n",
    "                              collate_fn=collate_fn)"
   ]
  },
  {
   "cell_type": "code",
   "execution_count": 26,
   "id": "3cea95b5",
   "metadata": {},
   "outputs": [
    {
     "name": "stdout",
     "output_type": "stream",
     "text": [
      "tensor([ 35,  22,  56,  66, 128,   0,   0,   0,   0, 177, 104,  41,   0,   0,\n",
      "          0,   0,   0,  64,  58,   0,   0,  43,  62, 131,   0,   0,   0,   0,\n",
      "          2,   0,   0,  21,  57,   0,   0,   0,  75,   0,   0,   0,  29,   0,\n",
      "          0,   0,   0,  15,  55,  99,   0,   0,   0,   0, 104,  48,   4,   0,\n",
      "          0,   0,   0,  32,   0,   0,   0,   1]) tensor([ 35,  25,  60,  66, 128,   0,   0,   0,   0, 179, 105,  41,   0,   0,\n",
      "          0,   0,   0,  66,  59,   0,   0,  43,  64, 131,   0,   0,   0,   0,\n",
      "          2,   0,   0,  21,  57,   0,   0,   0,  76,   0,   0,   0,  31,   0,\n",
      "          0,   0,   0,  17,  57, 100,   0,   0,   0,   0, 104,  48,   5,   0,\n",
      "          0,   0,   0,  39,   0,   0,   0,   2])\n"
     ]
    }
   ],
   "source": [
    "for cw_idxs, cc_idxs, qw_idxs, qc_idxs, y1, y2, ids in data_loader: \n",
    "    print(y1, y2)\n",
    "    break"
   ]
  },
  {
   "cell_type": "code",
   "execution_count": 27,
   "id": "758d81bc",
   "metadata": {},
   "outputs": [
    {
     "data": {
      "text/plain": [
       "tensor([False, False, False, False, False,  True,  True,  True,  True, False,\n",
       "        False, False,  True,  True,  True,  True,  True, False, False,  True,\n",
       "         True, False, False, False,  True,  True,  True,  True, False,  True,\n",
       "         True, False, False,  True,  True,  True, False,  True,  True,  True,\n",
       "        False,  True,  True,  True,  True, False, False, False,  True,  True,\n",
       "         True,  True, False, False, False,  True,  True,  True,  True, False,\n",
       "         True,  True,  True, False])"
      ]
     },
     "execution_count": 27,
     "metadata": {},
     "output_type": "execute_result"
    }
   ],
   "source": [
    "(y1 == 0) & (y2==0)"
   ]
  },
  {
   "cell_type": "code",
   "execution_count": 28,
   "id": "14b0d7a1",
   "metadata": {},
   "outputs": [
    {
     "name": "stderr",
     "output_type": "stream",
     "text": [
      "100%|█████████████████████████████████████████████████████████████████████████████| 5951/5951 [00:38<00:00, 156.00it/s]\n"
     ]
    }
   ],
   "source": [
    "nll_meter = util.AverageMeter()\n",
    "pred_dict = {}  # Predictions for TensorBoard\n",
    "prob_dict = {}\n",
    "eval_file = './data/dev_eval.json'\n",
    "with open(eval_file, 'r') as fh:\n",
    "    gold_dict = json_load(fh)\n",
    "with torch.no_grad(), \\\n",
    "        tqdm(total=len(dataset)) as progress_bar:\n",
    "    for cw_idxs, cc_idxs, qw_idxs, qc_idxs, y1, y2, ids in data_loader:\n",
    "        # Setup for forward\n",
    "        cw_idxs = cw_idxs.to(device)\n",
    "        qw_idxs = qw_idxs.to(device)\n",
    "        cc_idxs = cc_idxs.to(device)\n",
    "        qc_idxs = qc_idxs.to(device)\n",
    "        #print(cw_idxs.shape)\n",
    "        #print(qw_idxs.shape)\n",
    "        #print(cc_idxs.shape)\n",
    "        #print(qc_idxs.shape)\n",
    "        batch_size = cw_idxs.size(0)\n",
    "\n",
    "        # Forward\n",
    "        log_p1, log_p2 = model(cw_idxs, qw_idxs, cc_idxs, qc_idxs)\n",
    "        y1, y2 = y1.to(device), y2.to(device)\n",
    "        loss = F.nll_loss(log_p1, y1) + F.nll_loss(log_p2, y2)\n",
    "        nll_meter.update(loss.item(), batch_size)\n",
    "\n",
    "        # Get F1 and EM scores\n",
    "        p1, p2 = log_p1.exp(), log_p2.exp()\n",
    "        starts, ends = util.discretize(p1, p2, 64, True)\n",
    "\n",
    "        # Log info\n",
    "        progress_bar.update(batch_size)\n",
    "\n",
    "        idx2pred, uuid2pred = util.convert_tokens(gold_dict,\n",
    "                                                  ids.tolist(),\n",
    "                                                  starts.tolist(),\n",
    "                                                  ends.tolist(),\n",
    "                                                  True)\n",
    "        score_null = [x[0].item() * y[0].item() for x, y in zip(p1, p2)]\n",
    "        #score_has = [max([x[i].item() + y[j].item() for i, j in combinations(range(1, len(x)), 2)]) for x, y in zip(p1, p2)]\n",
    "        score_has = []\n",
    "        p1 = p1.cpu().numpy()\n",
    "        p2 = p2.cpu().numpy()\n",
    "        for x, y in zip(p1, p2):\n",
    "            max_score = float('-inf')\n",
    "            for i in range(1, len(x)-1):\n",
    "                for j in range(i+1, min(i+16, len(x))):\n",
    "                    tmp = x[i].item() * y[j].item()\n",
    "                    max_score = tmp if tmp > max_score else max_score\n",
    "            score_has.append(max_score)\n",
    "        pred_dict.update(idx2pred)\n",
    "        prob_dict.update(dict(zip([str(x.item()) for x in ids], [x - y for x, y in zip(score_null, score_has)])))"
   ]
  },
  {
   "cell_type": "code",
   "execution_count": 29,
   "id": "df8bb416",
   "metadata": {},
   "outputs": [
    {
     "data": {
      "text/plain": [
       "{'EM': 66.17375231053605, 'F1': 69.65407397706713, 'AvNA': 76.02083683414553}"
      ]
     },
     "execution_count": 29,
     "metadata": {},
     "output_type": "execute_result"
    }
   ],
   "source": [
    "util.eval_dicts(gold_dict, pred_dict, True)"
   ]
  },
  {
   "cell_type": "code",
   "execution_count": 78,
   "id": "5b0c1ba0",
   "metadata": {},
   "outputs": [],
   "source": [
    "def eval_dicts(gold_dict, pred_dict, no_answer, prob_dict=None, threshold=0.5):\n",
    "    avna = f1 = em = total = 0\n",
    "    tp = tn = fp = fn = 0\n",
    "    tp2 = tn2 = fp2 = fn2 = 0\n",
    "    for key, value in pred_dict.items():\n",
    "        total += 1\n",
    "        ground_truths = gold_dict[key]['answers']\n",
    "        prediction = value\n",
    "        if ground_truths == [] and prediction == '':\n",
    "            tp += 1\n",
    "        elif ground_truths != [] and prediction == '':\n",
    "            fp += 1\n",
    "        elif ground_truths == [] and prediction != '':\n",
    "            fn += 1\n",
    "        elif ground_truths != [] and prediction != '':\n",
    "            tn += 1\n",
    "        if prob_dict[key] > threshold or len(prediction.split()) > 10:\n",
    "            prediction = ''\n",
    "        if ground_truths == [] and prediction == '':\n",
    "            tp2 += 1\n",
    "        elif ground_truths != [] and prediction == '':\n",
    "            fp2 += 1\n",
    "        elif ground_truths == [] and prediction != '':\n",
    "            fn2 += 1\n",
    "        elif ground_truths != [] and prediction != '':\n",
    "            tn2 += 1\n",
    "        em += metric_max_over_ground_truths(compute_em, prediction, ground_truths)\n",
    "        f1 += metric_max_over_ground_truths(compute_f1, prediction, ground_truths)\n",
    "        if no_answer:\n",
    "            avna += compute_avna(prediction, ground_truths)\n",
    "\n",
    "    eval_dict = {'EM': 100. * em / total,\n",
    "                 'F1': 100. * f1 / total}\n",
    "\n",
    "    if no_answer:\n",
    "        eval_dict['AvNA'] = 100. * avna / total\n",
    "    print(tp, fp, tn, fn)\n",
    "    print(tp2, fp2, tn2, fn2)\n",
    "    return eval_dict"
   ]
  },
  {
   "cell_type": "code",
   "execution_count": 38,
   "id": "2daa6703",
   "metadata": {},
   "outputs": [
    {
     "name": "stderr",
     "output_type": "stream",
     "text": [
      "100%|██████████████████████████████████████████████████████████████████████████████████| 50/50 [00:20<00:00,  2.49it/s]\n"
     ]
    }
   ],
   "source": [
    "em_list = []\n",
    "f1_list = []\n",
    "avna_list = []\n",
    "\n",
    "grid = np.linspace(0,0.5, 51)[1:]\n",
    "\n",
    "for thres in tqdm(grid):\n",
    "    res = eval_dicts(gold_dict, pred_dict, True, prob_dict, threshold=thres)\n",
    "    em_list.append(res['EM'])\n",
    "    f1_list.append(res['F1'])\n",
    "    avna_list.append(res['AvNA'])"
   ]
  },
  {
   "cell_type": "code",
   "execution_count": 92,
   "id": "1e3f641d",
   "metadata": {},
   "outputs": [
    {
     "name": "stdout",
     "output_type": "stream",
     "text": [
      "2162 486 2362 941\n",
      "2257 611 2237 846\n"
     ]
    },
    {
     "data": {
      "text/plain": [
       "{'EM': 67.13157452528986, 'F1': 69.96604112350448, 'AvNA': 75.51671987901193}"
      ]
     },
     "execution_count": 92,
     "metadata": {},
     "output_type": "execute_result"
    }
   ],
   "source": [
    "eval_dicts(gold_dict, pred_dict, True, prob_dict, threshold=0.1)"
   ]
  },
  {
   "cell_type": "code",
   "execution_count": 63,
   "id": "8e167e02",
   "metadata": {},
   "outputs": [
    {
     "data": {
      "image/png": "[encoded data removed]",
      "text/plain": [
       "<Figure size 936x288 with 3 Axes>"
      ]
     },
     "metadata": {
      "needs_background": "light"
     },
     "output_type": "display_data"
    }
   ],
   "source": [
    "plt.figure(figsize=(13,4))\n",
    "plt.subplot(1,3,1)\n",
    "plt.plot(grid, em_list[:])\n",
    "plt.xlabel('threshold')\n",
    "plt.subplot(1,3,2)\n",
    "plt.plot(grid, f1_list[:], 'g')\n",
    "plt.xlabel('threshold')\n",
    "plt.subplot(1,3,3)\n",
    "plt.plot(grid, avna_list[:], 'r')\n",
    "plt.xlabel('threshold')\n",
    "plt.show()"
   ]
  },
  {
   "cell_type": "code",
   "execution_count": 87,
   "id": "faa59781",
   "metadata": {},
   "outputs": [
    {
     "data": {
      "text/plain": [
       "0.7602083683414552"
      ]
     },
     "execution_count": 87,
     "metadata": {},
     "output_type": "execute_result"
    }
   ],
   "source": [
    "(2162+2362)/(941+486+2162+2362)"
   ]
  },
  {
   "cell_type": "code",
   "execution_count": 88,
   "id": "6e26444b",
   "metadata": {},
   "outputs": [
    {
     "data": {
      "text/plain": [
       "0.7551671987901193"
      ]
     },
     "execution_count": 88,
     "metadata": {},
     "output_type": "execute_result"
    }
   ],
   "source": [
    "(2257+2237)/( 846+ 611 +  2257+2237)"
   ]
  },
  {
   "cell_type": "code",
   "execution_count": 82,
   "id": "1a231902",
   "metadata": {},
   "outputs": [
    {
     "data": {
      "text/plain": [
       "0.8164652567975831"
      ]
     },
     "execution_count": 82,
     "metadata": {},
     "output_type": "execute_result"
    }
   ],
   "source": [
    "2162/(2162+486)"
   ]
  },
  {
   "cell_type": "code",
   "execution_count": 83,
   "id": "4772f738",
   "metadata": {},
   "outputs": [
    {
     "data": {
      "text/plain": [
       "0.7151074780502573"
      ]
     },
     "execution_count": 83,
     "metadata": {},
     "output_type": "execute_result"
    }
   ],
   "source": [
    "2362/(941+2362)"
   ]
  },
  {
   "cell_type": "code",
   "execution_count": 84,
   "id": "ea7e375e",
   "metadata": {},
   "outputs": [
    {
     "data": {
      "text/plain": [
       "0.7869595536959554"
      ]
     },
     "execution_count": 84,
     "metadata": {},
     "output_type": "execute_result"
    }
   ],
   "source": [
    "2257/(611+2257)"
   ]
  },
  {
   "cell_type": "code",
   "execution_count": 85,
   "id": "57383a0d",
   "metadata": {},
   "outputs": [
    {
     "data": {
      "text/plain": [
       "0.7255919558871229"
      ]
     },
     "execution_count": 85,
     "metadata": {},
     "output_type": "execute_result"
    }
   ],
   "source": [
    "2237/(846+2237)"
   ]
  },
  {
   "cell_type": "code",
   "execution_count": 94,
   "id": "ad254f0b",
   "metadata": {},
   "outputs": [
    {
     "data": {
      "text/plain": [
       "75"
      ]
     },
     "execution_count": 94,
     "metadata": {},
     "output_type": "execute_result"
    }
   ],
   "source": [
    "110-35"
   ]
  },
  {
   "cell_type": "code",
   "execution_count": null,
   "id": "2c1f4c89",
   "metadata": {},
   "outputs": [],
   "source": []
  }
 ],
 "metadata": {
  "kernelspec": {
   "display_name": "Python (local_nmt)",
   "language": "python",
   "name": "local_nmt"
  },
  "language_info": {
   "codemirror_mode": {
    "name": "ipython",
    "version": 3
   },
   "file_extension": ".py",
   "mimetype": "text/x-python",
   "name": "python",
   "nbconvert_exporter": "python",
   "pygments_lexer": "ipython3",
   "version": "3.8.12"
  }
 },
 "nbformat": 4,
 "nbformat_minor": 5
}
